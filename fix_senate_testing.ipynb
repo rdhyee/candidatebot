{
 "cells": [
  {
   "cell_type": "code",
   "execution_count": null,
   "metadata": {
    "collapsed": true
   },
   "outputs": [],
   "source": [
    "import candidate"
   ]
  },
  {
   "cell_type": "code",
   "execution_count": null,
   "metadata": {
    "collapsed": true
   },
   "outputs": [],
   "source": [
    "!head candidates.csv"
   ]
  },
  {
   "cell_type": "code",
   "execution_count": null,
   "metadata": {
    "collapsed": false
   },
   "outputs": [],
   "source": [
    "candidate.Candidate.ordered_fields()"
   ]
  },
  {
   "cell_type": "code",
   "execution_count": 20,
   "metadata": {
    "collapsed": false
   },
   "outputs": [
    {
     "name": "stdout",
     "output_type": "stream",
     "text": [
      "Creating no more than 0 wiki pages.\n",
      "### house.html\n",
      "No citation for Roger Hernandez\n",
      "No citation for Adrienne Edwards\n",
      "No citation for Diana DeGette\n",
      "No citation for Ed Perlmutter\n",
      "No citation for Colleen Hanabusa\n",
      "No citation for Tulsi Gabbard\n",
      "No citation for Kevin Miller\n",
      "No citation for Genevieve Williams\n",
      "No citation for Dave Cowell\n",
      "No citation for Donald Norcross\n",
      "No citation for David Cole\n",
      "No citation for Lorna Phillipson\n",
      "No citation for Frank Pallone\n",
      "No citation for Peter Jacob\n",
      "No citation for Albio Sires\n",
      "No citation for Bill Pascrell\n",
      "No citation for Donald Payne, Jr.\n",
      "No citation for Joseph Wenzel\n",
      "No citation for Bonnie Watson Coleman\n",
      "No citation for Ben Ray Luján\n",
      "No citation for G. K. Butterfield\n",
      "No citation for John McNeil\n",
      "No citation for Ernest Reeves\n",
      "No citation for David Price\n",
      "No citation for Josh Brannon\n",
      "No citation for Pete Glidewell\n",
      "No citation for J. Wesley Casteen\n",
      "No citation for Thomas Mills\n",
      "No citation for Andy Millard\n",
      "No citation for Alma Adams\n",
      "No citation for Bruce Davis\n",
      "No citation for Mike Molesevich\n",
      "Warning: [Salu Hunkin-Finau (D)[586]] has an unknown party.\n",
      "Skipping house candidate Eleanor Holmes Norton: missing expected field: state. Had ['name', 'office', 'reference_name', 'reference_url', u'district', u'first_elected', u'delegate', u'incumbent_status', 'party', u'main_article_&_delegate_list', u'candidates']\n",
      "Warning: [Madeleine Bordallo (D)[588]] has an unknown party.\n",
      "Warning: [Gregorio Sablan[590]] has an unknown party.\n",
      "Skipping house candidate Stacey Plaskett: missing expected field: state. Had ['name', 'office', 'reference_name', 'reference_url', u'district', u'first_elected', u'delegate', u'incumbent_status', 'party', u'main_article_&_delegate_list', u'candidates']\n",
      "Skipping house candidate Ronald Russell: missing expected field: state. Had ['name', 'office', 'reference_name', 'reference_url', u'district', u'first_elected', u'delegate', u'incumbent_status', 'party', u'main_article_&_delegate_list', u'candidates']\n",
      "### governor.html\n"
     ]
    }
   ],
   "source": [
    "import csv\n",
    "import getpass\n",
    "import sys\n",
    "\n",
    "import candidate\n",
    "import credentials\n",
    "import mediawiki\n",
    "\n",
    "#BASEURL = \"https://test.wikipedia.org/w/\"\n",
    "#BASEURL = \"https://en.wikipedia.org/w/\"\n",
    "BASEURL = \"http://cso.noidea.dog/w/\"\n",
    "# Prepend all created pages with this\n",
    "DRAFT_PREFIX = \"User:Candidatebot/sandbox/\"\n",
    "YAML_FILE = \"candidates.yaml\"\n",
    "XML_FILE = \"CandidateSummaryAction.xml\"\n",
    "HOUSE_FILE = \"house.html\"\n",
    "GOVERNOR_FILE = \"governor.html\"\n",
    "# Limit what this does during testing.\n",
    "MAX_PAGES_TO_CREATE = 0\n",
    "\n",
    "\n",
    "def main():\n",
    "  \"\"\"Gets a bunch of candidate information and tries to create pages for it.\"\"\"\n",
    "\n",
    "  csvfile = open('candidates.csv', 'wb')\n",
    "  writer = csv.writer(csvfile, quoting=csv.QUOTE_ALL)\n",
    "  writer.writerow(candidate.Candidate.ordered_fields())\n",
    "\n",
    "  files = [ (HOUSE_FILE, \"house\"),\n",
    "            (GOVERNOR_FILE, \"governor\")]\n",
    "\n",
    "  print \"Creating no more than %s wiki pages.\" % MAX_PAGES_TO_CREATE\n",
    "  for filename, office in files:\n",
    "    print \"### %s\" % filename\n",
    "    #for person in candidate.new_from_fec_xml(XML_FILE):\n",
    "    #for person in candidate.new_from_yaml(YAML_FILE):\n",
    "    for person in candidate.new_from_wikipedia_page(filename, office):\n",
    "      writer.writerow(person.as_list())\n",
    "    \n",
    "main()"
   ]
  },
  {
   "cell_type": "code",
   "execution_count": null,
   "metadata": {
    "collapsed": true
   },
   "outputs": [],
   "source": []
  }
 ],
 "metadata": {
  "anaconda-cloud": {},
  "kernelspec": {
   "display_name": "Python [default]",
   "language": "python",
   "name": "python2"
  },
  "language_info": {
   "codemirror_mode": {
    "name": "ipython",
    "version": 2
   },
   "file_extension": ".py",
   "mimetype": "text/x-python",
   "name": "python",
   "nbconvert_exporter": "python",
   "pygments_lexer": "ipython2",
   "version": "2.7.12"
  }
 },
 "nbformat": 4,
 "nbformat_minor": 1
}
